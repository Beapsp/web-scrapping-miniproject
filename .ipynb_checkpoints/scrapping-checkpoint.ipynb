{
 "cells": [
  {
   "cell_type": "code",
   "execution_count": 168,
   "id": "2035b5fb",
   "metadata": {},
   "outputs": [],
   "source": [
    "from selenium import webdriver\n",
    "from selenium.webdriver.chrome.options import Options\n",
    "import time\n",
    "import pandas as pd\n",
    "from selenium.webdriver.support.ui import Select\n",
    "from webdriver_manager.chrome import ChromeDriverManager\n",
    "import re\n",
    "import plotly.express as px\n",
    "import plotly.graph_objects as go"
   ]
  },
  {
   "cell_type": "code",
   "execution_count": 40,
   "id": "739cd98b",
   "metadata": {},
   "outputs": [],
   "source": [
    "opciones=Options()\n",
    "\n",
    "opciones.add_experimental_option('excludeSwitches', ['enable-automation'])\n",
    "opciones.add_experimental_option('useAutomationExtension', False)\n",
    "\n",
    "opciones.headless=False    # si True, no aperece la ventana (headless=no visible)\n",
    "\n",
    "opciones.add_argument('--start-maximized')         # comienza maximizado\n",
    "\n",
    "#opciones.add_argument('user-data-dir=selenium')    # mantiene las cookies\n",
    "\n",
    "#opciones.add_extension('driver_folder/adblock.crx')       # adblocker\n",
    "\n",
    "opciones.add_argument('--incognito')     "
   ]
  },
  {
   "cell_type": "code",
   "execution_count": 41,
   "id": "014e677f",
   "metadata": {},
   "outputs": [
    {
     "name": "stderr",
     "output_type": "stream",
     "text": [
      "<ipython-input-41-7612bc59572c>:2: DeprecationWarning: executable_path has been deprecated, please pass in a Service object\n",
      "  driver = webdriver.Chrome(driver, options = opciones)\n"
     ]
    }
   ],
   "source": [
    "driver = \"./chromedriver.exe\"\n",
    "driver = webdriver.Chrome(driver, options = opciones)"
   ]
  },
  {
   "cell_type": "code",
   "execution_count": 42,
   "id": "e546ce51",
   "metadata": {},
   "outputs": [
    {
     "name": "stderr",
     "output_type": "stream",
     "text": [
      "<ipython-input-42-1f143b1e6afa>:4: DeprecationWarning: find_element_by_* commands are deprecated. Please use find_element() instead\n",
      "  driver.find_element_by_css_selector(\"#onetrust-accept-btn-handler\").click()\n",
      "<ipython-input-42-1f143b1e6afa>:6: DeprecationWarning: find_element_by_* commands are deprecated. Please use find_element() instead\n",
      "  driver.find_element_by_css_selector(\"#main > div.home-categories-menu.dark > a:nth-child(1) > div > span\").click()\n",
      "<ipython-input-42-1f143b1e6afa>:12: DeprecationWarning: find_element_by_* commands are deprecated. Please use find_element() instead\n",
      "  descripcion.append(driver.find_element_by_xpath(f\"/html/body/div[1]/main/section/div[4]/div[1]/div[2]/div[1]/ul/li[{i+1}]/a/div[2]/div/h3\").text)#pongo i+1 porque el primer elemento es 1, en lugar de 0\n",
      "<ipython-input-42-1f143b1e6afa>:13: DeprecationWarning: find_element_by_* commands are deprecated. Please use find_element() instead\n",
      "  nombre.append(driver.find_element_by_xpath(f\"/html/body/div[1]/main/section/div[4]/div[1]/div[2]/div[1]/ul/li[{i+1}]/a/div[2]/div/div/span\").text)\n",
      "<ipython-input-42-1f143b1e6afa>:14: DeprecationWarning: find_element_by_* commands are deprecated. Please use find_element() instead\n",
      "  entero = driver.find_element_by_xpath(f\"/html/body/div[1]/main/section/div[4]/div[1]/div[2]/div[1]/ul/li[{i+1}]/a/div[2]/div/div/div/div/span[1]\").text\n",
      "<ipython-input-42-1f143b1e6afa>:16: DeprecationWarning: find_element_by_* commands are deprecated. Please use find_element() instead\n",
      "  decimal = driver.find_element_by_xpath(f\"/html/body/div[1]/main/section/div[4]/div[1]/div[2]/div[1]/ul/li[{i+1}]/a/div[2]/div/div/div/div/span[2]\").text\n"
     ]
    }
   ],
   "source": [
    "url = \"https://kavehome.com/es/es/\"\n",
    "driver.get(url)\n",
    "driver.implicitly_wait(2)\n",
    "driver.find_element_by_css_selector(\"#onetrust-accept-btn-handler\").click()\n",
    "driver.implicitly_wait(2)\n",
    "driver.find_element_by_css_selector(\"#main > div.home-categories-menu.dark > a:nth-child(1) > div > span\").click()\n",
    "\n",
    "descripcion = [] \n",
    "precio = []\n",
    "nombre = []\n",
    "for i in range (0,48):\n",
    "        descripcion.append(driver.find_element_by_xpath(f\"/html/body/div[1]/main/section/div[4]/div[1]/div[2]/div[1]/ul/li[{i+1}]/a/div[2]/div/h3\").text)#pongo i+1 porque el primer elemento es 1, en lugar de 0\n",
    "        nombre.append(driver.find_element_by_xpath(f\"/html/body/div[1]/main/section/div[4]/div[1]/div[2]/div[1]/ul/li[{i+1}]/a/div[2]/div/div/span\").text)\n",
    "        entero = driver.find_element_by_xpath(f\"/html/body/div[1]/main/section/div[4]/div[1]/div[2]/div[1]/ul/li[{i+1}]/a/div[2]/div/div/div/div/span[1]\").text #como el xpath del entero y de la parte entera del decimal\n",
    "        try:\n",
    "            decimal = driver.find_element_by_xpath(f\"/html/body/div[1]/main/section/div[4]/div[1]/div[2]/div[1]/ul/li[{i+1}]/a/div[2]/div/div/div/div/span[2]\").text\n",
    "            precio.append([entero,decimal])\n",
    "        except:\n",
    "            \n",
    "            precio.append(entero)\n",
    "            \n",
    "driver.quit()"
   ]
  },
  {
   "cell_type": "code",
   "execution_count": 43,
   "id": "2caebc0f",
   "metadata": {},
   "outputs": [
    {
     "data": {
      "text/plain": [
       "[['70', ',95'],\n",
       " ['120', ',70'],\n",
       " ['74', ',75'],\n",
       " ['126', ',65'],\n",
       " ['109', ',65'],\n",
       " ['199', '€'],\n",
       " ['89', ',60'],\n",
       " ['122', '€'],\n",
       " ['135', '€'],\n",
       " ['107', ',95'],\n",
       " ['149', '€'],\n",
       " ['155', '€'],\n",
       " ['188', ',70'],\n",
       " ['149', '€'],\n",
       " ['155', '€'],\n",
       " ['199', '€'],\n",
       " ['122', '€'],\n",
       " ['175', '€'],\n",
       " ['124', '€'],\n",
       " ['149', '€'],\n",
       " ['119', '€'],\n",
       " ['149', '€'],\n",
       " ['87', ',20'],\n",
       " ['128', ',25'],\n",
       " ['175', '€'],\n",
       " ['169', '€'],\n",
       " ['83', ',85'],\n",
       " ['149', '€'],\n",
       " ['108', '€'],\n",
       " ['89', ',60'],\n",
       " ['155', '€'],\n",
       " ['149', '€'],\n",
       " ['109', ',80'],\n",
       " ['149', '€'],\n",
       " ['169', '€'],\n",
       " ['199', '€'],\n",
       " ['87', ',50'],\n",
       " ['185', '€'],\n",
       " ['155', '€'],\n",
       " ['124', '€'],\n",
       " ['128', ',25'],\n",
       " ['199', '€'],\n",
       " ['59', ',99'],\n",
       " ['108', '€'],\n",
       " ['199', '€'],\n",
       " ['116', ',10'],\n",
       " ['84', ',99'],\n",
       " ['59', ',99']]"
      ]
     },
     "execution_count": 43,
     "metadata": {},
     "output_type": "execute_result"
    }
   ],
   "source": [
    "precio"
   ]
  },
  {
   "cell_type": "code",
   "execution_count": 57,
   "id": "cf9bc4a1",
   "metadata": {},
   "outputs": [
    {
     "name": "stdout",
     "output_type": "stream",
     "text": [
      "70\n",
      ",95\n",
      "120\n",
      ",70\n",
      "74\n",
      ",75\n",
      "126\n",
      ",65\n",
      "109\n",
      ",65\n",
      "199\n",
      "€\n",
      "89\n",
      ",60\n",
      "122\n",
      "€\n",
      "135\n",
      "€\n",
      "107\n",
      ",95\n",
      "149\n",
      "€\n",
      "155\n",
      "€\n",
      "188\n",
      ",70\n",
      "149\n",
      "€\n",
      "155\n",
      "€\n",
      "199\n",
      "€\n",
      "122\n",
      "€\n",
      "175\n",
      "€\n",
      "124\n",
      "€\n",
      "149\n",
      "€\n",
      "119\n",
      "€\n",
      "149\n",
      "€\n",
      "87\n",
      ",20\n",
      "128\n",
      ",25\n",
      "175\n",
      "€\n",
      "169\n",
      "€\n",
      "83\n",
      ",85\n",
      "149\n",
      "€\n",
      "108\n",
      "€\n",
      "89\n",
      ",60\n",
      "155\n",
      "€\n",
      "149\n",
      "€\n",
      "109\n",
      ",80\n",
      "149\n",
      "€\n",
      "169\n",
      "€\n",
      "199\n",
      "€\n",
      "87\n",
      ",50\n",
      "185\n",
      "€\n",
      "155\n",
      "€\n",
      "124\n",
      "€\n",
      "128\n",
      ",25\n",
      "199\n",
      "€\n",
      "59\n",
      ",99\n",
      "108\n",
      "€\n",
      "199\n",
      "€\n",
      "116\n",
      ",10\n",
      "84\n",
      ",99\n",
      "59\n",
      ",99\n"
     ]
    }
   ],
   "source": [
    "precio1 = []\n",
    "for i in precio:\n",
    "    print(i[0])\n",
    "    print(i[-1])\n",
    "    "
   ]
  },
  {
   "cell_type": "code",
   "execution_count": 58,
   "id": "d16c4b87",
   "metadata": {},
   "outputs": [],
   "source": [
    "precio1 = []\n",
    "for i in precio:\n",
    "    precio1.append(i[0] + i[-1])"
   ]
  },
  {
   "cell_type": "code",
   "execution_count": 59,
   "id": "5ddc72c3",
   "metadata": {},
   "outputs": [
    {
     "data": {
      "text/plain": [
       "['70,95',\n",
       " '120,70',\n",
       " '74,75',\n",
       " '126,65',\n",
       " '109,65',\n",
       " '199€',\n",
       " '89,60',\n",
       " '122€',\n",
       " '135€',\n",
       " '107,95',\n",
       " '149€',\n",
       " '155€',\n",
       " '188,70',\n",
       " '149€',\n",
       " '155€',\n",
       " '199€',\n",
       " '122€',\n",
       " '175€',\n",
       " '124€',\n",
       " '149€',\n",
       " '119€',\n",
       " '149€',\n",
       " '87,20',\n",
       " '128,25',\n",
       " '175€',\n",
       " '169€',\n",
       " '83,85',\n",
       " '149€',\n",
       " '108€',\n",
       " '89,60',\n",
       " '155€',\n",
       " '149€',\n",
       " '109,80',\n",
       " '149€',\n",
       " '169€',\n",
       " '199€',\n",
       " '87,50',\n",
       " '185€',\n",
       " '155€',\n",
       " '124€',\n",
       " '128,25',\n",
       " '199€',\n",
       " '59,99',\n",
       " '108€',\n",
       " '199€',\n",
       " '116,10',\n",
       " '84,99',\n",
       " '59,99']"
      ]
     },
     "execution_count": 59,
     "metadata": {},
     "output_type": "execute_result"
    }
   ],
   "source": [
    "precio1"
   ]
  },
  {
   "cell_type": "code",
   "execution_count": 74,
   "id": "5d243ac3",
   "metadata": {},
   "outputs": [],
   "source": [
    "lista = []\n",
    "for i in precio1:\n",
    "    try:\n",
    "        lista.append(float(i.replace(\"€\", \"\").replace(\",\", '.')))\n",
    "    except:\n",
    "        lista.append(float(i.replace(\",\", '.')))"
   ]
  },
  {
   "cell_type": "code",
   "execution_count": 75,
   "id": "1e75f373",
   "metadata": {},
   "outputs": [],
   "source": [
    "df_precio = pd.DataFrame(lista)"
   ]
  },
  {
   "cell_type": "code",
   "execution_count": 76,
   "id": "0b6c18d6",
   "metadata": {},
   "outputs": [
    {
     "data": {
      "text/html": [
       "<div>\n",
       "<style scoped>\n",
       "    .dataframe tbody tr th:only-of-type {\n",
       "        vertical-align: middle;\n",
       "    }\n",
       "\n",
       "    .dataframe tbody tr th {\n",
       "        vertical-align: top;\n",
       "    }\n",
       "\n",
       "    .dataframe thead th {\n",
       "        text-align: right;\n",
       "    }\n",
       "</style>\n",
       "<table border=\"1\" class=\"dataframe\">\n",
       "  <thead>\n",
       "    <tr style=\"text-align: right;\">\n",
       "      <th></th>\n",
       "      <th>0</th>\n",
       "    </tr>\n",
       "  </thead>\n",
       "  <tbody>\n",
       "    <tr>\n",
       "      <th>0</th>\n",
       "      <td>70.95</td>\n",
       "    </tr>\n",
       "    <tr>\n",
       "      <th>1</th>\n",
       "      <td>120.70</td>\n",
       "    </tr>\n",
       "    <tr>\n",
       "      <th>2</th>\n",
       "      <td>74.75</td>\n",
       "    </tr>\n",
       "    <tr>\n",
       "      <th>3</th>\n",
       "      <td>126.65</td>\n",
       "    </tr>\n",
       "    <tr>\n",
       "      <th>4</th>\n",
       "      <td>109.65</td>\n",
       "    </tr>\n",
       "    <tr>\n",
       "      <th>5</th>\n",
       "      <td>199.00</td>\n",
       "    </tr>\n",
       "    <tr>\n",
       "      <th>6</th>\n",
       "      <td>89.60</td>\n",
       "    </tr>\n",
       "  </tbody>\n",
       "</table>\n",
       "</div>"
      ],
      "text/plain": [
       "        0\n",
       "0   70.95\n",
       "1  120.70\n",
       "2   74.75\n",
       "3  126.65\n",
       "4  109.65\n",
       "5  199.00\n",
       "6   89.60"
      ]
     },
     "execution_count": 76,
     "metadata": {},
     "output_type": "execute_result"
    }
   ],
   "source": [
    "df_precio.head(7)"
   ]
  },
  {
   "cell_type": "code",
   "execution_count": 50,
   "id": "f8e25fbb",
   "metadata": {},
   "outputs": [],
   "source": [
    "df_nombre = pd.DataFrame(nombre)"
   ]
  },
  {
   "cell_type": "code",
   "execution_count": 56,
   "id": "8afe4f6d",
   "metadata": {},
   "outputs": [
    {
     "data": {
      "text/html": [
       "<div>\n",
       "<style scoped>\n",
       "    .dataframe tbody tr th:only-of-type {\n",
       "        vertical-align: middle;\n",
       "    }\n",
       "\n",
       "    .dataframe tbody tr th {\n",
       "        vertical-align: top;\n",
       "    }\n",
       "\n",
       "    .dataframe thead th {\n",
       "        text-align: right;\n",
       "    }\n",
       "</style>\n",
       "<table border=\"1\" class=\"dataframe\">\n",
       "  <thead>\n",
       "    <tr style=\"text-align: right;\">\n",
       "      <th></th>\n",
       "      <th>0</th>\n",
       "    </tr>\n",
       "  </thead>\n",
       "  <tbody>\n",
       "    <tr>\n",
       "      <th>0</th>\n",
       "      <td>Naiquen</td>\n",
       "    </tr>\n",
       "    <tr>\n",
       "      <th>1</th>\n",
       "      <td>Nadya</td>\n",
       "    </tr>\n",
       "    <tr>\n",
       "      <th>2</th>\n",
       "      <td>Oyaka</td>\n",
       "    </tr>\n",
       "    <tr>\n",
       "      <th>3</th>\n",
       "      <td>Runnie</td>\n",
       "    </tr>\n",
       "    <tr>\n",
       "      <th>4</th>\n",
       "      <td>Lumina</td>\n",
       "    </tr>\n",
       "  </tbody>\n",
       "</table>\n",
       "</div>"
      ],
      "text/plain": [
       "         0\n",
       "0  Naiquen\n",
       "1    Nadya\n",
       "2    Oyaka\n",
       "3   Runnie\n",
       "4   Lumina"
      ]
     },
     "execution_count": 56,
     "metadata": {},
     "output_type": "execute_result"
    }
   ],
   "source": [
    "df_nombre.head()"
   ]
  },
  {
   "cell_type": "code",
   "execution_count": 52,
   "id": "b599566f",
   "metadata": {},
   "outputs": [],
   "source": [
    "df_descripcion = pd.DataFrame(descripcion)"
   ]
  },
  {
   "cell_type": "code",
   "execution_count": 54,
   "id": "7af5176c",
   "metadata": {},
   "outputs": [
    {
     "data": {
      "text/html": [
       "<div>\n",
       "<style scoped>\n",
       "    .dataframe tbody tr th:only-of-type {\n",
       "        vertical-align: middle;\n",
       "    }\n",
       "\n",
       "    .dataframe tbody tr th {\n",
       "        vertical-align: top;\n",
       "    }\n",
       "\n",
       "    .dataframe thead th {\n",
       "        text-align: right;\n",
       "    }\n",
       "</style>\n",
       "<table border=\"1\" class=\"dataframe\">\n",
       "  <thead>\n",
       "    <tr style=\"text-align: right;\">\n",
       "      <th></th>\n",
       "      <th>0</th>\n",
       "    </tr>\n",
       "  </thead>\n",
       "  <tbody>\n",
       "    <tr>\n",
       "      <th>0</th>\n",
       "      <td>Silla Naiquen gris claro</td>\n",
       "    </tr>\n",
       "    <tr>\n",
       "      <th>1</th>\n",
       "      <td>Silla Nadya gris oscuro</td>\n",
       "    </tr>\n",
       "    <tr>\n",
       "      <th>2</th>\n",
       "      <td>Silla Oyaka chapa de nogal y acero con detalle...</td>\n",
       "    </tr>\n",
       "    <tr>\n",
       "      <th>3</th>\n",
       "      <td>Silla Runnie gris oscuro con patas de acero ac...</td>\n",
       "    </tr>\n",
       "    <tr>\n",
       "      <th>4</th>\n",
       "      <td>Silla Lumina gris oscuro patas acero acabado d...</td>\n",
       "    </tr>\n",
       "  </tbody>\n",
       "</table>\n",
       "</div>"
      ],
      "text/plain": [
       "                                                   0\n",
       "0                           Silla Naiquen gris claro\n",
       "1                            Silla Nadya gris oscuro\n",
       "2  Silla Oyaka chapa de nogal y acero con detalle...\n",
       "3  Silla Runnie gris oscuro con patas de acero ac...\n",
       "4  Silla Lumina gris oscuro patas acero acabado d..."
      ]
     },
     "execution_count": 54,
     "metadata": {},
     "output_type": "execute_result"
    }
   ],
   "source": [
    "df_descripcion.head()"
   ]
  },
  {
   "cell_type": "code",
   "execution_count": 5,
   "id": "4ce35d30",
   "metadata": {},
   "outputs": [],
   "source": [
    "#nombres\n",
    "#/html/body/div[1]/main/section/div[4]/div[1]/div[2]/div[1]/ul/li[1]/a/div[2]/div/div/span\n",
    "#/html/body/div[1]/main/section/div[4]/div[1]/div[2]/div[1]/ul/li[2]/a/div[2]/div/div/span"
   ]
  },
  {
   "cell_type": "code",
   "execution_count": 6,
   "id": "1266a503",
   "metadata": {},
   "outputs": [
    {
     "data": {
      "text/plain": [
       "['Silla Nadya gris oscuro',\n",
       " 'Silla Oyaka chapa de nogal y acero con detalle cobre',\n",
       " 'Silla Runnie gris oscuro con patas de acero acabado pintado negro',\n",
       " 'Silla Lumina gris oscuro patas acero acabado dorado',\n",
       " 'Silla Runnie de chenilla beige con patas de acero con acabado dorado',\n",
       " 'Silla Alve gris claro',\n",
       " 'Silla Suanne de pana gruesa verde oscuro con patas de acero acabado pintado negro',\n",
       " 'Silla Mael gris oscuro y patas de acero con acabado negro',\n",
       " 'Silla Adam gris oscuro',\n",
       " 'Silla Ciselia de borrego blanco y metal negro',\n",
       " 'Silla Konna de chenilla beige con patas de acero con acabado pintado negro',\n",
       " 'Silla Yvette terciopelo gris',\n",
       " 'Silla Aniela de borrego blanco y metal con acabado negro',\n",
       " 'Silla Konna de pana gruesa verde oscuro con patas de acero acabado pintado negro',\n",
       " 'Silla Runnie de chenilla gris oscuro con patas de acero con acabado dorado',\n",
       " 'Silla Suanne de pana gruesa gris con patas de acero acabado pintado negro',\n",
       " 'Silla Konna beige patas de madera maciza de fresno',\n",
       " 'Silla de escritorio Einara rosa',\n",
       " 'Silla Aniela de borrego negro y metal con acabado negro',\n",
       " 'Silla Suanne gris oscuro con patas de acero acabado pintado negro',\n",
       " 'Silla Runnie gris claro con patas de acero acabado pintado negro',\n",
       " 'Silla Milian chapa de fresno y acero con detalle dorado',\n",
       " 'Silla Madge gris claro y acero con acabado negro',\n",
       " 'Silla Konna gris oscuro patas de madera maciza de fresno',\n",
       " 'Silla Amira de chenilla verde oscuro y patas de metal con acabado negro',\n",
       " 'Silla Naiquen gris oscuro',\n",
       " 'Silla Maureen de chapa de roble acabado natural y metal con acabado negro',\n",
       " 'Silla Benilda gris oscuro, chapa de roble y acero con acabado negro',\n",
       " 'Silla Alve gris oscuro',\n",
       " 'Silla Konna de chenilla mostaza con patas de acero con acabado pintado negro',\n",
       " 'Silla Aniela de borrego gris claro y metal con acabado negro',\n",
       " 'Silla Lumina terciopelo gris claro patas acero acabado negro',\n",
       " 'Silla Ciselia de borrego gris claro y metal negro',\n",
       " 'Silla Amira de chenilla mostaza y patas de metal con acabado negro',\n",
       " 'Silla Konna de borrego blanco y patas de madera maciza de fresno',\n",
       " 'Silla de escritorio Melva negro',\n",
       " 'Silla Runnie de pelo blanco con patas de acero con acabado en cobre',\n",
       " 'Silla Konna de chenilla gris oscuro con patas de acero con acabado pintado negro',\n",
       " 'Silla de escritorio Einara gris oscuro',\n",
       " 'Silla Madge gris oscuro y acero con acabado negro',\n",
       " 'Silla Runnie de chenilla verde oscuro con patas de acero con acabado dorado',\n",
       " 'Silla Yaren terciopelo verde',\n",
       " 'Silla Benilda beige, chapa de roble y acero con acabado negro',\n",
       " 'Silla Konna de borrego negro y patas de madera maciza de fresno',\n",
       " 'Silla Lumina terciopelo verde oscuro patas acero acabado dorado',\n",
       " 'Silla Ivonne terciopelo azul',\n",
       " 'Silla Yaren terciopelo azul']"
      ]
     },
     "execution_count": 6,
     "metadata": {},
     "output_type": "execute_result"
    }
   ],
   "source": [
    "descripcion"
   ]
  },
  {
   "cell_type": "code",
   "execution_count": 78,
   "id": "aa84e38b",
   "metadata": {},
   "outputs": [
    {
     "data": {
      "text/plain": [
       "['Naiquen',\n",
       " 'Nadya',\n",
       " 'Oyaka',\n",
       " 'Runnie',\n",
       " 'Lumina',\n",
       " 'Runnie',\n",
       " 'Alve',\n",
       " 'Suanne',\n",
       " 'Mael',\n",
       " 'Adam',\n",
       " 'Ciselia',\n",
       " 'Konna',\n",
       " 'Yvette',\n",
       " 'Aniela',\n",
       " 'Konna',\n",
       " 'Runnie',\n",
       " 'Suanne',\n",
       " 'Konna',\n",
       " 'Einara',\n",
       " 'Aniela',\n",
       " 'Suanne',\n",
       " 'Runnie',\n",
       " 'Milian',\n",
       " 'Madge',\n",
       " 'Konna',\n",
       " 'Amira',\n",
       " 'Naiquen',\n",
       " 'Maureen',\n",
       " 'Benilda',\n",
       " 'Alve',\n",
       " 'Konna',\n",
       " 'Aniela',\n",
       " 'Lumina',\n",
       " 'Ciselia',\n",
       " 'Amira',\n",
       " 'Konna',\n",
       " 'Melva',\n",
       " 'Runnie',\n",
       " 'Konna',\n",
       " 'Einara',\n",
       " 'Madge',\n",
       " 'Runnie',\n",
       " 'Yaren',\n",
       " 'Benilda',\n",
       " 'Konna',\n",
       " 'Lumina',\n",
       " 'Ivonne',\n",
       " 'Yaren']"
      ]
     },
     "execution_count": 78,
     "metadata": {},
     "output_type": "execute_result"
    }
   ],
   "source": [
    "nombre"
   ]
  },
  {
   "cell_type": "code",
   "execution_count": 17,
   "id": "4a74b2ff",
   "metadata": {},
   "outputs": [],
   "source": [
    "driver.quit()"
   ]
  },
  {
   "cell_type": "code",
   "execution_count": 102,
   "id": "aa196ae4",
   "metadata": {},
   "outputs": [],
   "source": [
    "df = pd.DataFrame(nombre,descripcion).reset_index()"
   ]
  },
  {
   "cell_type": "code",
   "execution_count": 103,
   "id": "4c21c046",
   "metadata": {},
   "outputs": [
    {
     "data": {
      "text/html": [
       "<div>\n",
       "<style scoped>\n",
       "    .dataframe tbody tr th:only-of-type {\n",
       "        vertical-align: middle;\n",
       "    }\n",
       "\n",
       "    .dataframe tbody tr th {\n",
       "        vertical-align: top;\n",
       "    }\n",
       "\n",
       "    .dataframe thead th {\n",
       "        text-align: right;\n",
       "    }\n",
       "</style>\n",
       "<table border=\"1\" class=\"dataframe\">\n",
       "  <thead>\n",
       "    <tr style=\"text-align: right;\">\n",
       "      <th></th>\n",
       "      <th>index</th>\n",
       "      <th>0</th>\n",
       "    </tr>\n",
       "  </thead>\n",
       "  <tbody>\n",
       "    <tr>\n",
       "      <th>0</th>\n",
       "      <td>Silla Naiquen gris claro</td>\n",
       "      <td>Naiquen</td>\n",
       "    </tr>\n",
       "    <tr>\n",
       "      <th>1</th>\n",
       "      <td>Silla Nadya gris oscuro</td>\n",
       "      <td>Nadya</td>\n",
       "    </tr>\n",
       "    <tr>\n",
       "      <th>2</th>\n",
       "      <td>Silla Oyaka chapa de nogal y acero con detalle...</td>\n",
       "      <td>Oyaka</td>\n",
       "    </tr>\n",
       "    <tr>\n",
       "      <th>3</th>\n",
       "      <td>Silla Runnie gris oscuro con patas de acero ac...</td>\n",
       "      <td>Runnie</td>\n",
       "    </tr>\n",
       "    <tr>\n",
       "      <th>4</th>\n",
       "      <td>Silla Lumina gris oscuro patas acero acabado d...</td>\n",
       "      <td>Lumina</td>\n",
       "    </tr>\n",
       "  </tbody>\n",
       "</table>\n",
       "</div>"
      ],
      "text/plain": [
       "                                               index        0\n",
       "0                           Silla Naiquen gris claro  Naiquen\n",
       "1                            Silla Nadya gris oscuro    Nadya\n",
       "2  Silla Oyaka chapa de nogal y acero con detalle...    Oyaka\n",
       "3  Silla Runnie gris oscuro con patas de acero ac...   Runnie\n",
       "4  Silla Lumina gris oscuro patas acero acabado d...   Lumina"
      ]
     },
     "execution_count": 103,
     "metadata": {},
     "output_type": "execute_result"
    }
   ],
   "source": [
    "df.head()"
   ]
  },
  {
   "cell_type": "code",
   "execution_count": 104,
   "id": "e19de142",
   "metadata": {},
   "outputs": [],
   "source": [
    "diccio = {\"index\":\"Descripcion\", 0:\"Nombre silla\"}"
   ]
  },
  {
   "cell_type": "code",
   "execution_count": 105,
   "id": "86000362",
   "metadata": {},
   "outputs": [],
   "source": [
    "df.rename(columns=diccio,inplace=True)"
   ]
  },
  {
   "cell_type": "code",
   "execution_count": 107,
   "id": "7024feaa",
   "metadata": {},
   "outputs": [
    {
     "data": {
      "text/html": [
       "<div>\n",
       "<style scoped>\n",
       "    .dataframe tbody tr th:only-of-type {\n",
       "        vertical-align: middle;\n",
       "    }\n",
       "\n",
       "    .dataframe tbody tr th {\n",
       "        vertical-align: top;\n",
       "    }\n",
       "\n",
       "    .dataframe thead th {\n",
       "        text-align: right;\n",
       "    }\n",
       "</style>\n",
       "<table border=\"1\" class=\"dataframe\">\n",
       "  <thead>\n",
       "    <tr style=\"text-align: right;\">\n",
       "      <th></th>\n",
       "      <th>Descripcion</th>\n",
       "      <th>Nombre silla</th>\n",
       "    </tr>\n",
       "  </thead>\n",
       "  <tbody>\n",
       "    <tr>\n",
       "      <th>0</th>\n",
       "      <td>Silla Naiquen gris claro</td>\n",
       "      <td>Naiquen</td>\n",
       "    </tr>\n",
       "    <tr>\n",
       "      <th>1</th>\n",
       "      <td>Silla Nadya gris oscuro</td>\n",
       "      <td>Nadya</td>\n",
       "    </tr>\n",
       "    <tr>\n",
       "      <th>2</th>\n",
       "      <td>Silla Oyaka chapa de nogal y acero con detalle...</td>\n",
       "      <td>Oyaka</td>\n",
       "    </tr>\n",
       "    <tr>\n",
       "      <th>3</th>\n",
       "      <td>Silla Runnie gris oscuro con patas de acero ac...</td>\n",
       "      <td>Runnie</td>\n",
       "    </tr>\n",
       "    <tr>\n",
       "      <th>4</th>\n",
       "      <td>Silla Lumina gris oscuro patas acero acabado d...</td>\n",
       "      <td>Lumina</td>\n",
       "    </tr>\n",
       "  </tbody>\n",
       "</table>\n",
       "</div>"
      ],
      "text/plain": [
       "                                         Descripcion Nombre silla\n",
       "0                           Silla Naiquen gris claro      Naiquen\n",
       "1                            Silla Nadya gris oscuro        Nadya\n",
       "2  Silla Oyaka chapa de nogal y acero con detalle...        Oyaka\n",
       "3  Silla Runnie gris oscuro con patas de acero ac...       Runnie\n",
       "4  Silla Lumina gris oscuro patas acero acabado d...       Lumina"
      ]
     },
     "execution_count": 107,
     "metadata": {},
     "output_type": "execute_result"
    }
   ],
   "source": [
    "df.head()"
   ]
  },
  {
   "cell_type": "code",
   "execution_count": 108,
   "id": "1301ef87",
   "metadata": {},
   "outputs": [],
   "source": [
    "df_final = pd.concat([df, df_precio], axis=1)"
   ]
  },
  {
   "cell_type": "code",
   "execution_count": 110,
   "id": "c763c73f",
   "metadata": {},
   "outputs": [
    {
     "data": {
      "text/html": [
       "<div>\n",
       "<style scoped>\n",
       "    .dataframe tbody tr th:only-of-type {\n",
       "        vertical-align: middle;\n",
       "    }\n",
       "\n",
       "    .dataframe tbody tr th {\n",
       "        vertical-align: top;\n",
       "    }\n",
       "\n",
       "    .dataframe thead th {\n",
       "        text-align: right;\n",
       "    }\n",
       "</style>\n",
       "<table border=\"1\" class=\"dataframe\">\n",
       "  <thead>\n",
       "    <tr style=\"text-align: right;\">\n",
       "      <th></th>\n",
       "      <th>Descripcion</th>\n",
       "      <th>Nombre silla</th>\n",
       "      <th>0</th>\n",
       "    </tr>\n",
       "  </thead>\n",
       "  <tbody>\n",
       "    <tr>\n",
       "      <th>0</th>\n",
       "      <td>Silla Naiquen gris claro</td>\n",
       "      <td>Naiquen</td>\n",
       "      <td>70.95</td>\n",
       "    </tr>\n",
       "    <tr>\n",
       "      <th>1</th>\n",
       "      <td>Silla Nadya gris oscuro</td>\n",
       "      <td>Nadya</td>\n",
       "      <td>120.70</td>\n",
       "    </tr>\n",
       "    <tr>\n",
       "      <th>2</th>\n",
       "      <td>Silla Oyaka chapa de nogal y acero con detalle...</td>\n",
       "      <td>Oyaka</td>\n",
       "      <td>74.75</td>\n",
       "    </tr>\n",
       "    <tr>\n",
       "      <th>3</th>\n",
       "      <td>Silla Runnie gris oscuro con patas de acero ac...</td>\n",
       "      <td>Runnie</td>\n",
       "      <td>126.65</td>\n",
       "    </tr>\n",
       "    <tr>\n",
       "      <th>4</th>\n",
       "      <td>Silla Lumina gris oscuro patas acero acabado d...</td>\n",
       "      <td>Lumina</td>\n",
       "      <td>109.65</td>\n",
       "    </tr>\n",
       "  </tbody>\n",
       "</table>\n",
       "</div>"
      ],
      "text/plain": [
       "                                         Descripcion Nombre silla       0\n",
       "0                           Silla Naiquen gris claro      Naiquen   70.95\n",
       "1                            Silla Nadya gris oscuro        Nadya  120.70\n",
       "2  Silla Oyaka chapa de nogal y acero con detalle...        Oyaka   74.75\n",
       "3  Silla Runnie gris oscuro con patas de acero ac...       Runnie  126.65\n",
       "4  Silla Lumina gris oscuro patas acero acabado d...       Lumina  109.65"
      ]
     },
     "execution_count": 110,
     "metadata": {},
     "output_type": "execute_result"
    }
   ],
   "source": [
    "df_final.head()"
   ]
  },
  {
   "cell_type": "code",
   "execution_count": 113,
   "id": "2764ee9f",
   "metadata": {},
   "outputs": [],
   "source": [
    "diccio2 = {0:\"Precio\"}\n",
    "df_final.rename(columns=diccio2,inplace=True)"
   ]
  },
  {
   "cell_type": "code",
   "execution_count": 114,
   "id": "4d284a44",
   "metadata": {},
   "outputs": [
    {
     "data": {
      "text/html": [
       "<div>\n",
       "<style scoped>\n",
       "    .dataframe tbody tr th:only-of-type {\n",
       "        vertical-align: middle;\n",
       "    }\n",
       "\n",
       "    .dataframe tbody tr th {\n",
       "        vertical-align: top;\n",
       "    }\n",
       "\n",
       "    .dataframe thead th {\n",
       "        text-align: right;\n",
       "    }\n",
       "</style>\n",
       "<table border=\"1\" class=\"dataframe\">\n",
       "  <thead>\n",
       "    <tr style=\"text-align: right;\">\n",
       "      <th></th>\n",
       "      <th>Descripcion</th>\n",
       "      <th>Nombre silla</th>\n",
       "      <th>Precio</th>\n",
       "    </tr>\n",
       "  </thead>\n",
       "  <tbody>\n",
       "    <tr>\n",
       "      <th>0</th>\n",
       "      <td>Silla Naiquen gris claro</td>\n",
       "      <td>Naiquen</td>\n",
       "      <td>70.95</td>\n",
       "    </tr>\n",
       "    <tr>\n",
       "      <th>1</th>\n",
       "      <td>Silla Nadya gris oscuro</td>\n",
       "      <td>Nadya</td>\n",
       "      <td>120.70</td>\n",
       "    </tr>\n",
       "    <tr>\n",
       "      <th>2</th>\n",
       "      <td>Silla Oyaka chapa de nogal y acero con detalle...</td>\n",
       "      <td>Oyaka</td>\n",
       "      <td>74.75</td>\n",
       "    </tr>\n",
       "    <tr>\n",
       "      <th>3</th>\n",
       "      <td>Silla Runnie gris oscuro con patas de acero ac...</td>\n",
       "      <td>Runnie</td>\n",
       "      <td>126.65</td>\n",
       "    </tr>\n",
       "    <tr>\n",
       "      <th>4</th>\n",
       "      <td>Silla Lumina gris oscuro patas acero acabado d...</td>\n",
       "      <td>Lumina</td>\n",
       "      <td>109.65</td>\n",
       "    </tr>\n",
       "    <tr>\n",
       "      <th>5</th>\n",
       "      <td>Silla Runnie de chenilla beige con patas de ac...</td>\n",
       "      <td>Runnie</td>\n",
       "      <td>199.00</td>\n",
       "    </tr>\n",
       "    <tr>\n",
       "      <th>6</th>\n",
       "      <td>Silla Alve gris claro</td>\n",
       "      <td>Alve</td>\n",
       "      <td>89.60</td>\n",
       "    </tr>\n",
       "    <tr>\n",
       "      <th>7</th>\n",
       "      <td>Silla Suanne de pana gruesa verde oscuro con p...</td>\n",
       "      <td>Suanne</td>\n",
       "      <td>122.00</td>\n",
       "    </tr>\n",
       "    <tr>\n",
       "      <th>8</th>\n",
       "      <td>Silla Mael gris oscuro y patas de acero con ac...</td>\n",
       "      <td>Mael</td>\n",
       "      <td>135.00</td>\n",
       "    </tr>\n",
       "    <tr>\n",
       "      <th>9</th>\n",
       "      <td>Silla Adam gris oscuro</td>\n",
       "      <td>Adam</td>\n",
       "      <td>107.95</td>\n",
       "    </tr>\n",
       "    <tr>\n",
       "      <th>10</th>\n",
       "      <td>Silla Ciselia de borrego blanco y metal negro</td>\n",
       "      <td>Ciselia</td>\n",
       "      <td>149.00</td>\n",
       "    </tr>\n",
       "    <tr>\n",
       "      <th>11</th>\n",
       "      <td>Silla Konna de chenilla beige con patas de ace...</td>\n",
       "      <td>Konna</td>\n",
       "      <td>155.00</td>\n",
       "    </tr>\n",
       "    <tr>\n",
       "      <th>12</th>\n",
       "      <td>Silla Yvette terciopelo gris</td>\n",
       "      <td>Yvette</td>\n",
       "      <td>188.70</td>\n",
       "    </tr>\n",
       "    <tr>\n",
       "      <th>13</th>\n",
       "      <td>Silla Aniela de borrego blanco y metal con aca...</td>\n",
       "      <td>Aniela</td>\n",
       "      <td>149.00</td>\n",
       "    </tr>\n",
       "    <tr>\n",
       "      <th>14</th>\n",
       "      <td>Silla Konna de pana gruesa verde oscuro con pa...</td>\n",
       "      <td>Konna</td>\n",
       "      <td>155.00</td>\n",
       "    </tr>\n",
       "    <tr>\n",
       "      <th>15</th>\n",
       "      <td>Silla Runnie de chenilla gris oscuro con patas...</td>\n",
       "      <td>Runnie</td>\n",
       "      <td>199.00</td>\n",
       "    </tr>\n",
       "    <tr>\n",
       "      <th>16</th>\n",
       "      <td>Silla Suanne de pana gruesa gris con patas de ...</td>\n",
       "      <td>Suanne</td>\n",
       "      <td>122.00</td>\n",
       "    </tr>\n",
       "    <tr>\n",
       "      <th>17</th>\n",
       "      <td>Silla Konna beige patas de madera maciza de fr...</td>\n",
       "      <td>Konna</td>\n",
       "      <td>175.00</td>\n",
       "    </tr>\n",
       "    <tr>\n",
       "      <th>18</th>\n",
       "      <td>Silla de escritorio Einara rosa</td>\n",
       "      <td>Einara</td>\n",
       "      <td>124.00</td>\n",
       "    </tr>\n",
       "    <tr>\n",
       "      <th>19</th>\n",
       "      <td>Silla Aniela de borrego negro y metal con acab...</td>\n",
       "      <td>Aniela</td>\n",
       "      <td>149.00</td>\n",
       "    </tr>\n",
       "    <tr>\n",
       "      <th>20</th>\n",
       "      <td>Silla Suanne gris oscuro con patas de acero ac...</td>\n",
       "      <td>Suanne</td>\n",
       "      <td>119.00</td>\n",
       "    </tr>\n",
       "    <tr>\n",
       "      <th>21</th>\n",
       "      <td>Silla Runnie gris claro con patas de acero aca...</td>\n",
       "      <td>Runnie</td>\n",
       "      <td>149.00</td>\n",
       "    </tr>\n",
       "    <tr>\n",
       "      <th>22</th>\n",
       "      <td>Silla Milian chapa de fresno y acero con detal...</td>\n",
       "      <td>Milian</td>\n",
       "      <td>87.20</td>\n",
       "    </tr>\n",
       "    <tr>\n",
       "      <th>23</th>\n",
       "      <td>Silla Madge gris claro y acero con acabado negro</td>\n",
       "      <td>Madge</td>\n",
       "      <td>128.25</td>\n",
       "    </tr>\n",
       "    <tr>\n",
       "      <th>24</th>\n",
       "      <td>Silla Konna gris oscuro patas de madera maciza...</td>\n",
       "      <td>Konna</td>\n",
       "      <td>175.00</td>\n",
       "    </tr>\n",
       "    <tr>\n",
       "      <th>25</th>\n",
       "      <td>Silla Amira de chenilla verde oscuro y patas d...</td>\n",
       "      <td>Amira</td>\n",
       "      <td>169.00</td>\n",
       "    </tr>\n",
       "    <tr>\n",
       "      <th>26</th>\n",
       "      <td>Silla Naiquen gris oscuro</td>\n",
       "      <td>Naiquen</td>\n",
       "      <td>83.85</td>\n",
       "    </tr>\n",
       "    <tr>\n",
       "      <th>27</th>\n",
       "      <td>Silla Maureen de chapa de roble acabado natura...</td>\n",
       "      <td>Maureen</td>\n",
       "      <td>149.00</td>\n",
       "    </tr>\n",
       "    <tr>\n",
       "      <th>28</th>\n",
       "      <td>Silla Benilda gris oscuro, chapa de roble y ac...</td>\n",
       "      <td>Benilda</td>\n",
       "      <td>108.00</td>\n",
       "    </tr>\n",
       "    <tr>\n",
       "      <th>29</th>\n",
       "      <td>Silla Alve gris oscuro</td>\n",
       "      <td>Alve</td>\n",
       "      <td>89.60</td>\n",
       "    </tr>\n",
       "    <tr>\n",
       "      <th>30</th>\n",
       "      <td>Silla Konna de chenilla mostaza con patas de a...</td>\n",
       "      <td>Konna</td>\n",
       "      <td>155.00</td>\n",
       "    </tr>\n",
       "    <tr>\n",
       "      <th>31</th>\n",
       "      <td>Silla Aniela de borrego gris claro y metal con...</td>\n",
       "      <td>Aniela</td>\n",
       "      <td>149.00</td>\n",
       "    </tr>\n",
       "    <tr>\n",
       "      <th>32</th>\n",
       "      <td>Silla Lumina terciopelo gris claro patas acero...</td>\n",
       "      <td>Lumina</td>\n",
       "      <td>109.80</td>\n",
       "    </tr>\n",
       "    <tr>\n",
       "      <th>33</th>\n",
       "      <td>Silla Ciselia de borrego gris claro y metal negro</td>\n",
       "      <td>Ciselia</td>\n",
       "      <td>149.00</td>\n",
       "    </tr>\n",
       "    <tr>\n",
       "      <th>34</th>\n",
       "      <td>Silla Amira de chenilla mostaza y patas de met...</td>\n",
       "      <td>Amira</td>\n",
       "      <td>169.00</td>\n",
       "    </tr>\n",
       "    <tr>\n",
       "      <th>35</th>\n",
       "      <td>Silla Konna de borrego blanco y patas de mader...</td>\n",
       "      <td>Konna</td>\n",
       "      <td>199.00</td>\n",
       "    </tr>\n",
       "    <tr>\n",
       "      <th>36</th>\n",
       "      <td>Silla de escritorio Melva negro</td>\n",
       "      <td>Melva</td>\n",
       "      <td>87.50</td>\n",
       "    </tr>\n",
       "    <tr>\n",
       "      <th>37</th>\n",
       "      <td>Silla Runnie de pelo blanco con patas de acero...</td>\n",
       "      <td>Runnie</td>\n",
       "      <td>185.00</td>\n",
       "    </tr>\n",
       "    <tr>\n",
       "      <th>38</th>\n",
       "      <td>Silla Konna de chenilla gris oscuro con patas ...</td>\n",
       "      <td>Konna</td>\n",
       "      <td>155.00</td>\n",
       "    </tr>\n",
       "    <tr>\n",
       "      <th>39</th>\n",
       "      <td>Silla de escritorio Einara gris oscuro</td>\n",
       "      <td>Einara</td>\n",
       "      <td>124.00</td>\n",
       "    </tr>\n",
       "    <tr>\n",
       "      <th>40</th>\n",
       "      <td>Silla Madge gris oscuro y acero con acabado negro</td>\n",
       "      <td>Madge</td>\n",
       "      <td>128.25</td>\n",
       "    </tr>\n",
       "    <tr>\n",
       "      <th>41</th>\n",
       "      <td>Silla Runnie de chenilla verde oscuro con pata...</td>\n",
       "      <td>Runnie</td>\n",
       "      <td>199.00</td>\n",
       "    </tr>\n",
       "    <tr>\n",
       "      <th>42</th>\n",
       "      <td>Silla Yaren terciopelo verde</td>\n",
       "      <td>Yaren</td>\n",
       "      <td>59.99</td>\n",
       "    </tr>\n",
       "    <tr>\n",
       "      <th>43</th>\n",
       "      <td>Silla Benilda beige, chapa de roble y acero co...</td>\n",
       "      <td>Benilda</td>\n",
       "      <td>108.00</td>\n",
       "    </tr>\n",
       "    <tr>\n",
       "      <th>44</th>\n",
       "      <td>Silla Konna de borrego negro y patas de madera...</td>\n",
       "      <td>Konna</td>\n",
       "      <td>199.00</td>\n",
       "    </tr>\n",
       "    <tr>\n",
       "      <th>45</th>\n",
       "      <td>Silla Lumina terciopelo verde oscuro patas ace...</td>\n",
       "      <td>Lumina</td>\n",
       "      <td>116.10</td>\n",
       "    </tr>\n",
       "    <tr>\n",
       "      <th>46</th>\n",
       "      <td>Silla Ivonne terciopelo azul</td>\n",
       "      <td>Ivonne</td>\n",
       "      <td>84.99</td>\n",
       "    </tr>\n",
       "    <tr>\n",
       "      <th>47</th>\n",
       "      <td>Silla Yaren terciopelo azul</td>\n",
       "      <td>Yaren</td>\n",
       "      <td>59.99</td>\n",
       "    </tr>\n",
       "  </tbody>\n",
       "</table>\n",
       "</div>"
      ],
      "text/plain": [
       "                                          Descripcion Nombre silla  Precio\n",
       "0                            Silla Naiquen gris claro      Naiquen   70.95\n",
       "1                             Silla Nadya gris oscuro        Nadya  120.70\n",
       "2   Silla Oyaka chapa de nogal y acero con detalle...        Oyaka   74.75\n",
       "3   Silla Runnie gris oscuro con patas de acero ac...       Runnie  126.65\n",
       "4   Silla Lumina gris oscuro patas acero acabado d...       Lumina  109.65\n",
       "5   Silla Runnie de chenilla beige con patas de ac...       Runnie  199.00\n",
       "6                               Silla Alve gris claro         Alve   89.60\n",
       "7   Silla Suanne de pana gruesa verde oscuro con p...       Suanne  122.00\n",
       "8   Silla Mael gris oscuro y patas de acero con ac...         Mael  135.00\n",
       "9                              Silla Adam gris oscuro         Adam  107.95\n",
       "10      Silla Ciselia de borrego blanco y metal negro      Ciselia  149.00\n",
       "11  Silla Konna de chenilla beige con patas de ace...        Konna  155.00\n",
       "12                       Silla Yvette terciopelo gris       Yvette  188.70\n",
       "13  Silla Aniela de borrego blanco y metal con aca...       Aniela  149.00\n",
       "14  Silla Konna de pana gruesa verde oscuro con pa...        Konna  155.00\n",
       "15  Silla Runnie de chenilla gris oscuro con patas...       Runnie  199.00\n",
       "16  Silla Suanne de pana gruesa gris con patas de ...       Suanne  122.00\n",
       "17  Silla Konna beige patas de madera maciza de fr...        Konna  175.00\n",
       "18                    Silla de escritorio Einara rosa       Einara  124.00\n",
       "19  Silla Aniela de borrego negro y metal con acab...       Aniela  149.00\n",
       "20  Silla Suanne gris oscuro con patas de acero ac...       Suanne  119.00\n",
       "21  Silla Runnie gris claro con patas de acero aca...       Runnie  149.00\n",
       "22  Silla Milian chapa de fresno y acero con detal...       Milian   87.20\n",
       "23   Silla Madge gris claro y acero con acabado negro        Madge  128.25\n",
       "24  Silla Konna gris oscuro patas de madera maciza...        Konna  175.00\n",
       "25  Silla Amira de chenilla verde oscuro y patas d...        Amira  169.00\n",
       "26                          Silla Naiquen gris oscuro      Naiquen   83.85\n",
       "27  Silla Maureen de chapa de roble acabado natura...      Maureen  149.00\n",
       "28  Silla Benilda gris oscuro, chapa de roble y ac...      Benilda  108.00\n",
       "29                             Silla Alve gris oscuro         Alve   89.60\n",
       "30  Silla Konna de chenilla mostaza con patas de a...        Konna  155.00\n",
       "31  Silla Aniela de borrego gris claro y metal con...       Aniela  149.00\n",
       "32  Silla Lumina terciopelo gris claro patas acero...       Lumina  109.80\n",
       "33  Silla Ciselia de borrego gris claro y metal negro      Ciselia  149.00\n",
       "34  Silla Amira de chenilla mostaza y patas de met...        Amira  169.00\n",
       "35  Silla Konna de borrego blanco y patas de mader...        Konna  199.00\n",
       "36                    Silla de escritorio Melva negro        Melva   87.50\n",
       "37  Silla Runnie de pelo blanco con patas de acero...       Runnie  185.00\n",
       "38  Silla Konna de chenilla gris oscuro con patas ...        Konna  155.00\n",
       "39             Silla de escritorio Einara gris oscuro       Einara  124.00\n",
       "40  Silla Madge gris oscuro y acero con acabado negro        Madge  128.25\n",
       "41  Silla Runnie de chenilla verde oscuro con pata...       Runnie  199.00\n",
       "42                       Silla Yaren terciopelo verde        Yaren   59.99\n",
       "43  Silla Benilda beige, chapa de roble y acero co...      Benilda  108.00\n",
       "44  Silla Konna de borrego negro y patas de madera...        Konna  199.00\n",
       "45  Silla Lumina terciopelo verde oscuro patas ace...       Lumina  116.10\n",
       "46                       Silla Ivonne terciopelo azul       Ivonne   84.99\n",
       "47                        Silla Yaren terciopelo azul        Yaren   59.99"
      ]
     },
     "execution_count": 114,
     "metadata": {},
     "output_type": "execute_result"
    }
   ],
   "source": [
    "df_final"
   ]
  },
  {
   "cell_type": "code",
   "execution_count": 117,
   "id": "ffc4419b",
   "metadata": {},
   "outputs": [],
   "source": [
    "df_final.to_csv(\"sillas.csv\") #lo guardo diréactamente en la misma carpeta del jupyter de limpieza"
   ]
  },
  {
   "cell_type": "code",
   "execution_count": 119,
   "id": "f9500d0a",
   "metadata": {},
   "outputs": [],
   "source": [
    "kave = pd.read_csv('sillas.csv', index_col=0)"
   ]
  },
  {
   "cell_type": "markdown",
   "id": "71418b61",
   "metadata": {},
   "source": [
    "### Procedemos a la visualización"
   ]
  },
  {
   "cell_type": "code",
   "execution_count": 115,
   "id": "40c1c6dd",
   "metadata": {},
   "outputs": [],
   "source": [
    "import seaborn as sns\n",
    "import matplotlib.pyplot as plt\n",
    "import pandas as pd"
   ]
  },
  {
   "cell_type": "code",
   "execution_count": 125,
   "id": "4b061722",
   "metadata": {},
   "outputs": [],
   "source": [
    "%matplotlib inline\n",
    "%config Inlinebackend.figure_format= 'retina'\n",
    "sns.set_context(\"poster\")\n",
    "sns.set(rc={\"figure.figsize\": (12.,6.)})\n",
    "sns.set_style(\"whitegrid\")"
   ]
  },
  {
   "cell_type": "markdown",
   "id": "6a301d5b",
   "metadata": {},
   "source": [
    "### 1. Voy a comprobar si existe alguna silla con valor superior a 300€"
   ]
  },
  {
   "cell_type": "code",
   "execution_count": 127,
   "id": "ac1f31d0",
   "metadata": {},
   "outputs": [
    {
     "data": {
      "image/png": "[encoded data removed]",
      "text/plain": [
       "<Figure size 864x432 with 1 Axes>"
      ]
     },
     "metadata": {},
     "output_type": "display_data"
    }
   ],
   "source": [
    "barplot = sns.barplot(x=\"Nombre silla\", y=\"Precio\", data=df_final,ci=\"sd\");\n",
    "plt.xticks(rotation=45);"
   ]
  },
  {
   "cell_type": "code",
   "execution_count": 186,
   "id": "6b4ee274",
   "metadata": {},
   "outputs": [],
   "source": [
    "barplot.figure.savefig(\"barplot.jpg\", dpi=1000, bbox_inches =\"tight\")"
   ]
  },
  {
   "cell_type": "markdown",
   "id": "f35fbce6",
   "metadata": {},
   "source": [
    "### El precio más alto de silla no supera los 300€"
   ]
  },
  {
   "cell_type": "markdown",
   "id": "635a320e",
   "metadata": {},
   "source": [
    "### 2. Además visualizaré el precio medio de las sillas de esta marca"
   ]
  },
  {
   "cell_type": "code",
   "execution_count": 183,
   "id": "edeeaeb2",
   "metadata": {},
   "outputs": [
    {
     "data": {
      "image/png": "[encoded data removed]",
      "text/plain": [
       "<Figure size 864x432 with 1 Axes>"
      ]
     },
     "metadata": {},
     "output_type": "display_data"
    }
   ],
   "source": [
    "media = sns.boxplot(x=\"Precio\", data=df_final)"
   ]
  },
  {
   "cell_type": "code",
   "execution_count": 184,
   "id": "4b8f4e78",
   "metadata": {},
   "outputs": [],
   "source": [
    "media.figure.savefig(\"media.jpg\", dpi=1000, bbox_inches =\"tight\")"
   ]
  },
  {
   "cell_type": "code",
   "execution_count": 185,
   "id": "de0a5b33",
   "metadata": {},
   "outputs": [
    {
     "data": {
      "text/plain": [
       "<matplotlib.legend.Legend at 0x7f7697ec44c0>"
      ]
     },
     "execution_count": 185,
     "metadata": {},
     "output_type": "execute_result"
    },
    {
     "data": {
      "image/png": "[encoded data removed]",
      "text/plain": [
       "<Figure size 864x432 with 1 Axes>"
      ]
     },
     "metadata": {},
     "output_type": "display_data"
    }
   ],
   "source": [
    "violin = sns.violinplot(x=df_final.Precio)\n",
    "violin_precio = violin.axvline(x=df_final.Precio.median(), c=\"red\", label=\"median\")\n",
    "plt.legend()"
   ]
  },
  {
   "cell_type": "code",
   "execution_count": 181,
   "id": "447bb64d",
   "metadata": {},
   "outputs": [],
   "source": [
    "violin_precio.figure.savefig(\"violin.jpg\", dpi=1000, bbox_inches =\"tight\")"
   ]
  },
  {
   "cell_type": "markdown",
   "id": "eee44b23",
   "metadata": {},
   "source": [
    "### El precio medio de las sillas de esta marca ronda los 130€"
   ]
  },
  {
   "cell_type": "markdown",
   "id": "22be9215",
   "metadata": {},
   "source": [
    "### 3. Vamos a comprobar que en esta marca existen más sillas de color gris que de color verde"
   ]
  },
  {
   "cell_type": "code",
   "execution_count": 161,
   "id": "9e4f3f33",
   "metadata": {},
   "outputs": [],
   "source": [
    "def limpiar_sillas(x):\n",
    "    dicc_descripcion = {\n",
    "            \"Silla gris\":re.search(\".*[Gg](ris|RIS).*\",str(x)),\n",
    "            \"Silla verde\":re.search(\".*[Vv](erde|ERDE).*\",str(x)),\n",
    "            \"Silla azul\":re.search(\".*[Aa](zul|ZUL).*\",str(x)),\n",
    "            \"Silla negro\":re.search(\".*[Nn](egro|EGRO).*\",str(x)),\n",
    "            \"Silla rosa\":re.search(\".*[Rr](osa|OSA).*\",str(x))}\n",
    "\n",
    "    for key,values in dicc_descripcion.items():\n",
    "        if values:\n",
    "            return key\n",
    "\n",
    "    return \"otro color\""
   ]
  },
  {
   "cell_type": "code",
   "execution_count": 162,
   "id": "efd5d71d",
   "metadata": {},
   "outputs": [],
   "source": [
    "df_final[\"Color\"]=df_final[\"Descripcion\"].apply(limpiar_sillas)"
   ]
  },
  {
   "cell_type": "code",
   "execution_count": 174,
   "id": "77abd28b",
   "metadata": {},
   "outputs": [
    {
     "data": {
      "text/html": [
       "<div>\n",
       "<style scoped>\n",
       "    .dataframe tbody tr th:only-of-type {\n",
       "        vertical-align: middle;\n",
       "    }\n",
       "\n",
       "    .dataframe tbody tr th {\n",
       "        vertical-align: top;\n",
       "    }\n",
       "\n",
       "    .dataframe thead th {\n",
       "        text-align: right;\n",
       "    }\n",
       "</style>\n",
       "<table border=\"1\" class=\"dataframe\">\n",
       "  <thead>\n",
       "    <tr style=\"text-align: right;\">\n",
       "      <th></th>\n",
       "      <th>Descripcion</th>\n",
       "      <th>Nombre silla</th>\n",
       "      <th>Precio</th>\n",
       "      <th>Color</th>\n",
       "    </tr>\n",
       "  </thead>\n",
       "  <tbody>\n",
       "    <tr>\n",
       "      <th>0</th>\n",
       "      <td>Silla Naiquen gris claro</td>\n",
       "      <td>Naiquen</td>\n",
       "      <td>70.95</td>\n",
       "      <td>Silla gris</td>\n",
       "    </tr>\n",
       "    <tr>\n",
       "      <th>1</th>\n",
       "      <td>Silla Nadya gris oscuro</td>\n",
       "      <td>Nadya</td>\n",
       "      <td>120.70</td>\n",
       "      <td>Silla gris</td>\n",
       "    </tr>\n",
       "    <tr>\n",
       "      <th>2</th>\n",
       "      <td>Silla Oyaka chapa de nogal y acero con detalle...</td>\n",
       "      <td>Oyaka</td>\n",
       "      <td>74.75</td>\n",
       "      <td>otro color</td>\n",
       "    </tr>\n",
       "    <tr>\n",
       "      <th>3</th>\n",
       "      <td>Silla Runnie gris oscuro con patas de acero ac...</td>\n",
       "      <td>Runnie</td>\n",
       "      <td>126.65</td>\n",
       "      <td>Silla gris</td>\n",
       "    </tr>\n",
       "    <tr>\n",
       "      <th>4</th>\n",
       "      <td>Silla Lumina gris oscuro patas acero acabado d...</td>\n",
       "      <td>Lumina</td>\n",
       "      <td>109.65</td>\n",
       "      <td>Silla gris</td>\n",
       "    </tr>\n",
       "  </tbody>\n",
       "</table>\n",
       "</div>"
      ],
      "text/plain": [
       "                                         Descripcion Nombre silla  Precio  \\\n",
       "0                           Silla Naiquen gris claro      Naiquen   70.95   \n",
       "1                            Silla Nadya gris oscuro        Nadya  120.70   \n",
       "2  Silla Oyaka chapa de nogal y acero con detalle...        Oyaka   74.75   \n",
       "3  Silla Runnie gris oscuro con patas de acero ac...       Runnie  126.65   \n",
       "4  Silla Lumina gris oscuro patas acero acabado d...       Lumina  109.65   \n",
       "\n",
       "        Color  \n",
       "0  Silla gris  \n",
       "1  Silla gris  \n",
       "2  otro color  \n",
       "3  Silla gris  \n",
       "4  Silla gris  "
      ]
     },
     "execution_count": 174,
     "metadata": {},
     "output_type": "execute_result"
    }
   ],
   "source": [
    "df_final.head()"
   ]
  },
  {
   "cell_type": "code",
   "execution_count": 171,
   "id": "276629a0",
   "metadata": {},
   "outputs": [
    {
     "data": {
      "text/plain": [
       "Silla gris     23\n",
       "Silla negro    10\n",
       "otro color      6\n",
       "Silla verde     6\n",
       "Silla azul      2\n",
       "Silla rosa      1\n",
       "Name: Color, dtype: int64"
      ]
     },
     "execution_count": 171,
     "metadata": {},
     "output_type": "execute_result"
    }
   ],
   "source": [
    "color = df_final[\"Color\"].value_counts()\n",
    "color"
   ]
  },
  {
   "cell_type": "code",
   "execution_count": 177,
   "id": "cb03b791",
   "metadata": {},
   "outputs": [
    {
     "data": {
      "image/png": "[encoded data removed]",
      "text/plain": [
       "<Figure size 864x432 with 1 Axes>"
      ]
     },
     "metadata": {},
     "output_type": "display_data"
    }
   ],
   "source": [
    "colores = color.plot.pie(autopct=\"%.1f%%\")"
   ]
  },
  {
   "cell_type": "code",
   "execution_count": 178,
   "id": "f6d52796",
   "metadata": {},
   "outputs": [],
   "source": [
    "colores.figure.savefig(\"colores.jpg\", dpi=1000, bbox_inches =\"tight\")"
   ]
  },
  {
   "cell_type": "code",
   "execution_count": 175,
   "id": "1437cab7",
   "metadata": {},
   "outputs": [
    {
     "data": {
      "image/png": "[encoded data removed]",
      "text/plain": [
       "<Figure size 864x432 with 1 Axes>"
      ]
     },
     "metadata": {},
     "output_type": "display_data"
    }
   ],
   "source": [
    "sillas_color = df_final[\"Color\"].value_counts().plot(kind=\"bar\", figsize=(12,6), title=\"Número de sillas por color\")\n",
    "plt.xticks(rotation=45);"
   ]
  },
  {
   "cell_type": "code",
   "execution_count": 176,
   "id": "6d51c8f7",
   "metadata": {},
   "outputs": [],
   "source": [
    "sillas_color.figure.savefig(\"sillas_color.jpg\", dpi=1000, bbox_inches =\"tight\")"
   ]
  },
  {
   "cell_type": "markdown",
   "id": "70603cdc",
   "metadata": {},
   "source": [
    "### Efectivamente existen más sillas de color gris que de color verde"
   ]
  },
  {
   "cell_type": "code",
   "execution_count": null,
   "id": "1e8471c7",
   "metadata": {},
   "outputs": [],
   "source": [
    "#precios sin descuento\n",
    "#/html/body/div[1]/main/section/div[4]/div[1]/div[2]/div[1]/ul/li[6]/a/div[2]/div/div/div/div/span[1]\n",
    "#/html/body/div[1]/main/section/div[4]/div[1]/div[2]/div[1]/ul/li[8]/a/div[2]/div/div/div/div/span[1]#me cambia el número de posición de cada elemento--> ojo i+1\n",
    "\n",
    "#precios con descuento\n",
    "#/html/body/div[1]/main/section/div[4]/div[1]/div[2]/div[1]/ul/li[1]/a/div[2]/div/div/div/div\n",
    "#/html/body/div[1]/main/section/div[4]/div[1]/div[2]/div[1]/ul/li[2]/a/div[2]/div/div/div/div\n",
    "#/html/body/div[1]/main/section/div[4]/div[1]/div[2]/div[1]/ul/li[3]/a/div[2]/div/div/div/div#cambia la posición de cada producto\n",
    "\n",
    "\n",
    "\n",
    "#precio del elemento 22, entero y ambas partes del decimal.\n",
    "#/html/body/div[1]/main/section/div[4]/div[1]/div[2]/div[1]/ul/li[22]/a/div[2]/div/div/div/div\n",
    "#/html/body/div[1]/main/section/div[4]/div[1]/div[2]/div[1]/ul/li[22]/a/div[2]/div/div/div/div/span[1]\n",
    "#/html/body/div[1]/main/section/div[4]/div[1]/div[2]/div[1]/ul/li[22]/a/div[2]/div/div/div/div/span[2]\n",
    "\n",
    "\n",
    "#precios con descuento con ambas partes del número decimal.\n",
    "#precio decimal del elemnto 6\n",
    "#/html/body/div[1]/main/section/div[4]/div[1]/div[2]/div[1]/ul/li[6]/a/div[2]/div/div/div/div/span[1]\n",
    "#/html/body/div[1]/main/section/div[4]/div[1]/div[2]/div[1]/ul/li[6]/a/div[2]/div/div/div/div/span[2]"
   ]
  },
  {
   "cell_type": "code",
   "execution_count": 5,
   "id": "b428188d",
   "metadata": {},
   "outputs": [
    {
     "name": "stderr",
     "output_type": "stream",
     "text": [
      "<ipython-input-5-d8baba06ed7d>:5: DeprecationWarning: find_element_by_* commands are deprecated. Please use find_element() instead\n",
      "  driver.find_element_by_css_selector(\"#onetrust-accept-btn-handler\").click()\n",
      "<ipython-input-5-d8baba06ed7d>:10: DeprecationWarning: find_element_by_* commands are deprecated. Please use find_element() instead\n",
      "  driver.find_element_by_css_selector(\"#main > div.home-categories-menu.dark > a:nth-child(1) > div > span\").click()\n"
     ]
    }
   ],
   "source": [
    "#PUEDE DARSE EL CASO DE QUE NO SIEMPRE SALTEN LAS COOKIES, ENTONCES HABRÍA QUE PONER UN TRY-EXCEPT COMO EL SIGUIENTE\n",
    "#url = \"https://kavehome.com/es/es/\"\n",
    "#driver.get(url)\n",
    "#driver.implicitly_wait(2)\n",
    "#try:\n",
    "    driver.find_element_by_css_selector(\"#onetrust-accept-btn-handler\").click()\n",
    "    driver.implicitly_wait(2)\n",
    "    driver.find_element_by_css_selector(\"#main > div.home-categories-menu.dark > a:nth-child(1) > div > span\").click()\n",
    "#except:\n",
    "    driver.implicitly_wait(2)\n",
    "    driver.find_element_by_css_selector(\"#main > div.home-categories-menu.dark > a:nth-child(1) > div > span\").click()\n"
   ]
  }
 ],
 "metadata": {
  "kernelspec": {
   "display_name": "ironhack",
   "language": "python",
   "name": "ironhack"
  },
  "language_info": {
   "codemirror_mode": {
    "name": "ipython",
    "version": 3
   },
   "file_extension": ".py",
   "mimetype": "text/x-python",
   "name": "python",
   "nbconvert_exporter": "python",
   "pygments_lexer": "ipython3",
   "version": "3.8.5"
  }
 },
 "nbformat": 4,
 "nbformat_minor": 5
}
