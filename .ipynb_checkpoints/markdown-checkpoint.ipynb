{
 "cells": [
  {
   "cell_type": "markdown",
   "id": "ea9e9ad3",
   "metadata": {},
   "source": [
    "# web-scrapping-miniproject\n",
    "![imagen](kave.jpg)\n",
    "\n",
    "### OBJETIVO:\n",
    "Tenemos como objetivo para este mini proyecto, sacar información de una web a través de Selenium. En mi caso, trabajo para una marca de venta de muebles y voy a comparar el producto con una marca de la competencia, \"Kave Home\", concretamente de los modelos y precios de las sillas que tienen en stock.\n",
    "\n",
    "Me gustaría comprobar los siguientes puntos relacionados con las sillas de esta marca:\n",
    "    - Comprobar si existe alguna silla con valor superior a 300€\n",
    "    - Conocer el precio medio de las sillas de esta marca\n",
    "    - Comparar si existen más sillas de color gris que de color verde\n",
    "\n",
    "\n",
    "### VISUALIZACIÓN:\n",
    "\n",
    "Las dos primeras hipótesis he podido comprobarlas directamente con la información obtenida del dataframe final conseguido, pero para poder comparar el número de sillas por colore, he creado una nueva columna \"Colo\" utilizando el método regex.\n",
    "\n",
    "\n",
    "### CONCLUSIÓN FINAL:\n",
    "Mediante los gráficos de visualización hemos podido observar las siguientes conclusiones:\n",
    "\n",
    "   - Comprobar si existe alguna silla con valor superior a 300€--> Se refuta la hipótesis, ya que no existe ninguna silla que supere dicho valor.\n",
    "   ![imagen](barplot.jpg)\n",
    "    \n",
    "   - Conocer el precio medio de las sillas de esta marca --> El precio medio de las sillas de esta marca es de unos 130€.\n",
    "   ![imagen](media.jpg)\n",
    "   ![imagen](violin.jpg)\n",
    "    \n",
    "   - Comparar si existen más sillas de color gris que de color verde --> Se cumple esta hipótesis, ya que efectivamente existen más sillas de color gris que de color verde.\n",
    "   ![imagen](colores.jpg)\n",
    "   ![imagen](sillas_color.jpg)\n",
    "\n",
    "\n",
    "\n",
    "Para conseguir los objetivos del proyecto he usado los siguientes recursos:\n",
    "-- https://kavehome.com/es/es/\n",
    "\n",
    "- selenium (https://www.selenium.dev/es/documentation/)\n",
    "- sys(https://docs.python.org/3/library/sys.html)\n",
    "- pandas(https://pandas.pydata.org/)\n",
    "- re(https://docs.python.org/3/library/re.html)\n",
    "- plotly(https://plotly.com/python-api-reference/plotly.express.html)\n",
    "- seaborn(https://seaborn.pydata.org/)\n"
   ]
  }
 ],
 "metadata": {
  "kernelspec": {
   "display_name": "ironhack",
   "language": "python",
   "name": "ironhack"
  },
  "language_info": {
   "codemirror_mode": {
    "name": "ipython",
    "version": 3
   },
   "file_extension": ".py",
   "mimetype": "text/x-python",
   "name": "python",
   "nbconvert_exporter": "python",
   "pygments_lexer": "ipython3",
   "version": "3.8.5"
  }
 },
 "nbformat": 4,
 "nbformat_minor": 5
}
